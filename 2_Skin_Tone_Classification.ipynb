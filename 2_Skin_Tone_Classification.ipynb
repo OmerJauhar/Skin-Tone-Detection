{
  "cells": [
    {
      "cell_type": "code",
      "execution_count": null,
      "metadata": {
        "id": "381EuqNFvMl9"
      },
      "outputs": [],
      "source": [
        "import os\n",
        "import numpy as np\n",
        "import tensorflow as tf\n",
        "from sklearn.model_selection import train_test_split\n",
        "from sklearn.metrics import confusion_matrix, classification_report\n",
        "import matplotlib.pyplot as plt\n",
        "from tensorflow.keras.models import Sequential\n",
        "from tensorflow.keras.layers import GlobalAveragePooling2D, Dense, Dropout\n",
        "from tensorflow.keras.applications import MobileNetV2\n",
        "from tensorflow.keras.optimizers import Adam\n",
        "from tensorflow.keras.callbacks import EarlyStopping, ReduceLROnPlateau"
      ]
    },
    {
      "cell_type": "code",
      "execution_count": null,
      "metadata": {
        "id": "6cKMK2fHK3aW"
      },
      "outputs": [],
      "source": [
        "np.random.seed(42)\n",
        "tf.random.set_seed(42)"
      ]
    },
    {
      "cell_type": "code",
      "execution_count": null,
      "metadata": {
        "id": "0904jqVyvQn0"
      },
      "outputs": [],
      "source": [
        "dataset_path = '/content/drive/MyDrive/Data Science/Data Science Projects/5. Final Project/3. Skin Tone Prediction /Images/Clustered'\n",
        "input_shape = (90, 120, 3)\n",
        "classes = ['Fair_Light', 'Medium_Tan', 'Dark_Deep']\n",
        "EPOCHS = 50  # Increase the number of epochs\n",
        "BS = 32\n"
      ]
    },
    {
      "cell_type": "code",
      "execution_count": null,
      "metadata": {
        "id": "3qPicjD_0oj8"
      },
      "outputs": [],
      "source": [
        "data = []\n",
        "labels = []"
      ]
    },
    {
      "cell_type": "code",
      "execution_count": null,
      "metadata": {
        "colab": {
          "base_uri": "https://localhost:8080/",
          "height": 269
        },
        "id": "xZ-kabod0pus",
        "outputId": "6b7e9f32-e7c1-46e2-8ecf-0e606134d756"
      },
      "outputs": [
        {
          "ename": "FileNotFoundError",
          "evalue": "ignored",
          "output_type": "error",
          "traceback": [
            "\u001b[0;31m---------------------------------------------------------------------------\u001b[0m",
            "\u001b[0;31mFileNotFoundError\u001b[0m                         Traceback (most recent call last)",
            "\u001b[0;32m<ipython-input-5-50f11cd0b0b3>\u001b[0m in \u001b[0;36m<cell line: 1>\u001b[0;34m()\u001b[0m\n\u001b[1;32m      1\u001b[0m \u001b[0;32mfor\u001b[0m \u001b[0midx\u001b[0m\u001b[0;34m,\u001b[0m \u001b[0mclass_name\u001b[0m \u001b[0;32min\u001b[0m \u001b[0menumerate\u001b[0m\u001b[0;34m(\u001b[0m\u001b[0mclasses\u001b[0m\u001b[0;34m)\u001b[0m\u001b[0;34m:\u001b[0m\u001b[0;34m\u001b[0m\u001b[0;34m\u001b[0m\u001b[0m\n\u001b[1;32m      2\u001b[0m     \u001b[0mclass_path\u001b[0m \u001b[0;34m=\u001b[0m \u001b[0mos\u001b[0m\u001b[0;34m.\u001b[0m\u001b[0mpath\u001b[0m\u001b[0;34m.\u001b[0m\u001b[0mjoin\u001b[0m\u001b[0;34m(\u001b[0m\u001b[0mdataset_path\u001b[0m\u001b[0;34m,\u001b[0m \u001b[0mclass_name\u001b[0m\u001b[0;34m)\u001b[0m\u001b[0;34m\u001b[0m\u001b[0;34m\u001b[0m\u001b[0m\n\u001b[0;32m----> 3\u001b[0;31m     \u001b[0;32mfor\u001b[0m \u001b[0mfilename\u001b[0m \u001b[0;32min\u001b[0m \u001b[0mos\u001b[0m\u001b[0;34m.\u001b[0m\u001b[0mlistdir\u001b[0m\u001b[0;34m(\u001b[0m\u001b[0mclass_path\u001b[0m\u001b[0;34m)\u001b[0m\u001b[0;34m:\u001b[0m\u001b[0;34m\u001b[0m\u001b[0;34m\u001b[0m\u001b[0m\n\u001b[0m\u001b[1;32m      4\u001b[0m         \u001b[0mimage_path\u001b[0m \u001b[0;34m=\u001b[0m \u001b[0mos\u001b[0m\u001b[0;34m.\u001b[0m\u001b[0mpath\u001b[0m\u001b[0;34m.\u001b[0m\u001b[0mjoin\u001b[0m\u001b[0;34m(\u001b[0m\u001b[0mclass_path\u001b[0m\u001b[0;34m,\u001b[0m \u001b[0mfilename\u001b[0m\u001b[0;34m)\u001b[0m\u001b[0;34m\u001b[0m\u001b[0;34m\u001b[0m\u001b[0m\n\u001b[1;32m      5\u001b[0m         \u001b[0mimage\u001b[0m \u001b[0;34m=\u001b[0m \u001b[0mtf\u001b[0m\u001b[0;34m.\u001b[0m\u001b[0mkeras\u001b[0m\u001b[0;34m.\u001b[0m\u001b[0mpreprocessing\u001b[0m\u001b[0;34m.\u001b[0m\u001b[0mimage\u001b[0m\u001b[0;34m.\u001b[0m\u001b[0mload_img\u001b[0m\u001b[0;34m(\u001b[0m\u001b[0mimage_path\u001b[0m\u001b[0;34m,\u001b[0m \u001b[0mtarget_size\u001b[0m\u001b[0;34m=\u001b[0m\u001b[0minput_shape\u001b[0m\u001b[0;34m[\u001b[0m\u001b[0;34m:\u001b[0m\u001b[0;36m2\u001b[0m\u001b[0;34m]\u001b[0m\u001b[0;34m)\u001b[0m\u001b[0;34m\u001b[0m\u001b[0;34m\u001b[0m\u001b[0m\n",
            "\u001b[0;31mFileNotFoundError\u001b[0m: [Errno 2] No such file or directory: '/content/drive/MyDrive/Data Science/Data Science Projects/5. Final Project/3. Skin Tone Prediction /Images/Clustered/Fair_Light'"
          ]
        }
      ],
      "source": [
        "for idx, class_name in enumerate(classes):\n",
        "    class_path = os.path.join(dataset_path, class_name)\n",
        "    for filename in os.listdir(class_path):\n",
        "        image_path = os.path.join(class_path, filename)\n",
        "        image = tf.keras.preprocessing.image.load_img(image_path, target_size=input_shape[:2])\n",
        "        image = tf.keras.preprocessing.image.img_to_array(image)\n",
        "        image = tf.keras.applications.mobilenet_v2.preprocess_input(image)\n",
        "        data.append(image)\n",
        "        labels.append(idx)"
      ]
    },
    {
      "cell_type": "code",
      "execution_count": null,
      "metadata": {
        "id": "EshqDB9a0rrb"
      },
      "outputs": [],
      "source": [
        "data = np.array(data, dtype=\"float32\")\n",
        "labels = np.array(labels)"
      ]
    },
    {
      "cell_type": "code",
      "execution_count": null,
      "metadata": {
        "id": "VPp3EkEdQ60Z"
      },
      "outputs": [],
      "source": [
        "trainX, testX, trainY, testY = train_test_split(data, labels, test_size=0.2, stratify=labels, random_state=42)"
      ]
    },
    {
      "cell_type": "code",
      "execution_count": null,
      "metadata": {
        "id": "uyeyRm3T0215"
      },
      "outputs": [],
      "source": [
        "datagen = tf.keras.preprocessing.image.ImageDataGenerator(\n",
        "    rotation_range=20,\n",
        "    width_shift_range=0.1,\n",
        "    height_shift_range=0.1,\n",
        "    shear_range=0.2,\n",
        "    zoom_range=0.2,\n",
        "    horizontal_flip=True,\n",
        "    fill_mode='nearest')"
      ]
    },
    {
      "cell_type": "code",
      "execution_count": null,
      "metadata": {
        "id": "OQqLXQ7qRBKs"
      },
      "outputs": [],
      "source": [
        "train_datagen = datagen.flow(trainX, trainY, batch_size=BS, shuffle=True)"
      ]
    },
    {
      "cell_type": "code",
      "execution_count": null,
      "metadata": {
        "colab": {
          "base_uri": "https://localhost:8080/"
        },
        "id": "MmqSYh8_1N7s",
        "outputId": "64f7ddad-2b56-4cbd-9034-910e49d03e64"
      },
      "outputs": [
        {
          "name": "stderr",
          "output_type": "stream",
          "text": [
            "WARNING:tensorflow:`input_shape` is undefined or non-square, or `rows` is not in [96, 128, 160, 192, 224]. Weights for input shape (224, 224) will be loaded as the default.\n"
          ]
        },
        {
          "name": "stdout",
          "output_type": "stream",
          "text": [
            "Downloading data from https://storage.googleapis.com/tensorflow/keras-applications/mobilenet_v2/mobilenet_v2_weights_tf_dim_ordering_tf_kernels_1.0_224_no_top.h5\n",
            "9406464/9406464 [==============================] - 0s 0us/step\n"
          ]
        }
      ],
      "source": [
        "base_model = MobileNetV2(input_shape=input_shape, include_top=False, weights='imagenet')\n",
        "base_model.trainable = False"
      ]
    },
    {
      "cell_type": "code",
      "execution_count": null,
      "metadata": {
        "colab": {
          "base_uri": "https://localhost:8080/"
        },
        "id": "wYh7DDzYyqA2",
        "outputId": "c7645fb7-3312-4a0d-950c-4ee39e7fed69"
      },
      "outputs": [
        {
          "name": "stderr",
          "output_type": "stream",
          "text": [
            "WARNING:absl:`lr` is deprecated in Keras optimizer, please use `learning_rate` or use the legacy optimizer, e.g.,tf.keras.optimizers.legacy.Adam.\n"
          ]
        }
      ],
      "source": [
        "model = Sequential([\n",
        "    base_model,\n",
        "    GlobalAveragePooling2D(),\n",
        "    Dense(256, activation='relu'),\n",
        "    Dropout(0.4),\n",
        "    Dense(len(classes), activation='softmax')\n",
        "])\n",
        "\n",
        "model.compile(optimizer=Adam(lr=1e-4), loss='sparse_categorical_crossentropy', metrics=['accuracy'])"
      ]
    },
    {
      "cell_type": "code",
      "execution_count": null,
      "metadata": {
        "id": "zz1NP9lCt5It"
      },
      "outputs": [],
      "source": [
        "lr_scheduler = ReduceLROnPlateau(factor=0.5, patience=3, min_lr=1e-6)\n",
        "early_stopping = EarlyStopping(monitor='val_loss', patience=5, restore_best_weights=True)"
      ]
    },
    {
      "cell_type": "code",
      "execution_count": null,
      "metadata": {
        "colab": {
          "base_uri": "https://localhost:8080/"
        },
        "id": "qtxpm97pRNrD",
        "outputId": "4f4a0868-845f-4c4f-a5f8-4113f60920c7"
      },
      "outputs": [
        {
          "name": "stdout",
          "output_type": "stream",
          "text": [
            "Epoch 1/50\n",
            "66/66 [==============================] - 21s 142ms/step - loss: 1.0164 - accuracy: 0.6039 - val_loss: 0.6469 - val_accuracy: 0.6648 - lr: 0.0010\n",
            "Epoch 2/50\n",
            "66/66 [==============================] - 6s 90ms/step - loss: 0.7231 - accuracy: 0.6557 - val_loss: 0.5966 - val_accuracy: 0.6855 - lr: 0.0010\n",
            "Epoch 3/50\n",
            "66/66 [==============================] - 7s 109ms/step - loss: 0.6396 - accuracy: 0.7035 - val_loss: 0.6036 - val_accuracy: 0.6987 - lr: 0.0010\n",
            "Epoch 4/50\n",
            "66/66 [==============================] - 8s 118ms/step - loss: 0.6231 - accuracy: 0.7208 - val_loss: 0.5433 - val_accuracy: 0.7401 - lr: 0.0010\n",
            "Epoch 5/50\n",
            "66/66 [==============================] - 8s 123ms/step - loss: 0.6503 - accuracy: 0.6887 - val_loss: 0.5091 - val_accuracy: 0.7815 - lr: 0.0010\n",
            "Epoch 6/50\n",
            "66/66 [==============================] - 6s 88ms/step - loss: 0.5985 - accuracy: 0.7313 - val_loss: 0.5298 - val_accuracy: 0.7345 - lr: 0.0010\n",
            "Epoch 7/50\n",
            "66/66 [==============================] - 7s 113ms/step - loss: 0.6117 - accuracy: 0.7217 - val_loss: 0.5100 - val_accuracy: 0.7533 - lr: 0.0010\n",
            "Epoch 8/50\n",
            "66/66 [==============================] - 6s 88ms/step - loss: 0.5894 - accuracy: 0.7261 - val_loss: 0.5180 - val_accuracy: 0.7552 - lr: 0.0010\n",
            "Epoch 9/50\n",
            "66/66 [==============================] - 8s 121ms/step - loss: 0.5731 - accuracy: 0.7462 - val_loss: 0.4903 - val_accuracy: 0.7684 - lr: 5.0000e-04\n",
            "Epoch 10/50\n",
            "66/66 [==============================] - 7s 98ms/step - loss: 0.5607 - accuracy: 0.7553 - val_loss: 0.4840 - val_accuracy: 0.8023 - lr: 5.0000e-04\n",
            "Epoch 11/50\n",
            "66/66 [==============================] - 7s 106ms/step - loss: 0.5638 - accuracy: 0.7433 - val_loss: 0.5086 - val_accuracy: 0.7928 - lr: 5.0000e-04\n",
            "Epoch 12/50\n",
            "66/66 [==============================] - 6s 90ms/step - loss: 0.5604 - accuracy: 0.7557 - val_loss: 0.4686 - val_accuracy: 0.7872 - lr: 5.0000e-04\n",
            "Epoch 13/50\n",
            "66/66 [==============================] - 6s 89ms/step - loss: 0.5645 - accuracy: 0.7385 - val_loss: 0.4585 - val_accuracy: 0.8211 - lr: 5.0000e-04\n",
            "Epoch 14/50\n",
            "66/66 [==============================] - 8s 116ms/step - loss: 0.5513 - accuracy: 0.7633 - val_loss: 0.4619 - val_accuracy: 0.8117 - lr: 5.0000e-04\n",
            "Epoch 15/50\n",
            "66/66 [==============================] - 6s 87ms/step - loss: 0.5527 - accuracy: 0.7658 - val_loss: 0.4794 - val_accuracy: 0.7966 - lr: 5.0000e-04\n",
            "Epoch 16/50\n",
            "66/66 [==============================] - 6s 91ms/step - loss: 0.5367 - accuracy: 0.7548 - val_loss: 0.5210 - val_accuracy: 0.7382 - lr: 5.0000e-04\n",
            "Epoch 17/50\n",
            "66/66 [==============================] - 7s 104ms/step - loss: 0.5297 - accuracy: 0.7706 - val_loss: 0.4615 - val_accuracy: 0.8004 - lr: 2.5000e-04\n",
            "Epoch 18/50\n",
            "66/66 [==============================] - 6s 92ms/step - loss: 0.5217 - accuracy: 0.7567 - val_loss: 0.4482 - val_accuracy: 0.8136 - lr: 2.5000e-04\n",
            "Epoch 19/50\n",
            "66/66 [==============================] - 8s 115ms/step - loss: 0.5280 - accuracy: 0.7687 - val_loss: 0.4545 - val_accuracy: 0.8136 - lr: 2.5000e-04\n",
            "Epoch 20/50\n",
            "66/66 [==============================] - 6s 90ms/step - loss: 0.5158 - accuracy: 0.7711 - val_loss: 0.4682 - val_accuracy: 0.8023 - lr: 2.5000e-04\n",
            "Epoch 21/50\n",
            "66/66 [==============================] - 8s 114ms/step - loss: 0.5344 - accuracy: 0.7629 - val_loss: 0.4579 - val_accuracy: 0.8154 - lr: 2.5000e-04\n",
            "Epoch 22/50\n",
            "66/66 [==============================] - 6s 90ms/step - loss: 0.5337 - accuracy: 0.7672 - val_loss: 0.4648 - val_accuracy: 0.7966 - lr: 1.2500e-04\n",
            "Epoch 23/50\n",
            "66/66 [==============================] - 6s 91ms/step - loss: 0.5249 - accuracy: 0.7644 - val_loss: 0.4562 - val_accuracy: 0.8098 - lr: 1.2500e-04\n"
          ]
        }
      ],
      "source": [
        "history = model.fit(\n",
        "    train_datagen,\n",
        "    steps_per_epoch=len(trainX) // BS,\n",
        "    validation_data=(testX, testY),\n",
        "    validation_steps=len(testX) // BS,\n",
        "    epochs=EPOCHS,\n",
        "    callbacks=[lr_scheduler, early_stopping]  # Add both callbacks\n",
        ")"
      ]
    },
    {
      "cell_type": "code",
      "execution_count": null,
      "metadata": {
        "colab": {
          "base_uri": "https://localhost:8080/",
          "height": 449
        },
        "id": "iCO19CAJRZs_",
        "outputId": "2f2e261e-8132-4351-9481-10c0cfb3c41a"
      },
      "outputs": [
        {
          "data": {
            "image/png": "[encoded data removed]",
            "text/plain": [
              "<Figure size 640x480 with 1 Axes>"
            ]
          },
          "metadata": {},
          "output_type": "display_data"
        }
      ],
      "source": [
        "plt.plot(history.history['loss'], label='train_loss')\n",
        "plt.plot(history.history['val_loss'], label='val_loss')\n",
        "plt.plot(history.history['accuracy'], label='train_acc')\n",
        "plt.plot(history.history['val_accuracy'], label='val_acc')\n",
        "plt.legend()\n",
        "plt.xlabel(\"Epoch\")\n",
        "plt.ylabel(\"Loss/Accuracy\")\n",
        "plt.show()"
      ]
    },
    {
      "cell_type": "code",
      "execution_count": null,
      "metadata": {
        "colab": {
          "base_uri": "https://localhost:8080/"
        },
        "id": "RF6Bhu7d1P-L",
        "outputId": "77fcad12-ae34-4928-a640-ba68cb0433d0"
      },
      "outputs": [
        {
          "name": "stdout",
          "output_type": "stream",
          "text": [
            "17/17 [==============================] - 2s 50ms/step\n",
            "Confusion Matrix:\n",
            "[[146  49   0]\n",
            " [ 29 267   5]\n",
            " [  0  16  19]]\n",
            "Classification Report:\n",
            "              precision    recall  f1-score   support\n",
            "\n",
            "  Fair_Light       0.83      0.75      0.79       195\n",
            "  Medium_Tan       0.80      0.89      0.84       301\n",
            "   Dark_Deep       0.79      0.54      0.64        35\n",
            "\n",
            "    accuracy                           0.81       531\n",
            "   macro avg       0.81      0.73      0.76       531\n",
            "weighted avg       0.81      0.81      0.81       531\n",
            "\n"
          ]
        }
      ],
      "source": [
        "preds = model.predict(testX)\n",
        "y_pred = np.argmax(preds, axis=1)\n",
        "\n",
        "cm = confusion_matrix(testY, y_pred)\n",
        "print(\"Confusion Matrix:\")\n",
        "print(cm)\n",
        "\n",
        "print(\"Classification Report:\")\n",
        "print(classification_report(testY, y_pred, target_names=classes))"
      ]
    },
    {
      "cell_type": "code",
      "execution_count": null,
      "metadata": {
        "colab": {
          "base_uri": "https://localhost:8080/"
        },
        "id": "N5UIM1bc4aZr",
        "outputId": "06d61463-932a-4697-ee43-1fe723beaa3b"
      },
      "outputs": [
        {
          "name": "stdout",
          "output_type": "stream",
          "text": [
            "Model saved.\n"
          ]
        }
      ],
      "source": [
        "model.save('/content/drive/MyDrive/Data Science/Data Science Projects/5. Final Project/3. Skin Tone Prediction /model.h5')\n",
        "print(\"Model saved.\")"
      ]
    }
  ],
  "metadata": {
    "accelerator": "GPU",
    "colab": {
      "provenance": []
    },
    "kernelspec": {
      "display_name": "Python 3",
      "name": "python3"
    },
    "language_info": {
      "name": "python"
    }
  },
  "nbformat": 4,
  "nbformat_minor": 0
}